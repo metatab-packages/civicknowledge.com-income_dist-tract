{
 "cells": [
  {
   "cell_type": "code",
   "execution_count": 2,
   "metadata": {},
   "outputs": [],
   "source": [
    "import seaborn as sns\n",
    "import metapack as mp\n",
    "import pandas as pd\n",
    "import numpy as np\n",
    "import matplotlib.pyplot as plt\n",
    "from IPython.display import display \n",
    "\n",
    "from tqdm.notebook import tqdm\n",
    "tqdm.pandas()\n",
    "from geoid.censusnames import stusab\n",
    "import rowgenerators as rg\n",
    "\n",
    "%matplotlib inline\n",
    "sns.set_context('notebook')\n",
    "mp.jupyter.init()\n"
   ]
  },
  {
   "cell_type": "code",
   "execution_count": 3,
   "metadata": {},
   "outputs": [
    {
     "data": {
      "text/html": [
       "<h1>Tract Income Distributions</h1>\n",
       "<p><code>civicknowledge.com-income_dist-tract-1.1.1</code> Last Update: 2021-02-19T04:02:37</p>\n",
       "<p><em>Estimated portions of households per tracts in income ranges</em></p>\n",
       "<h2>Contacts</h2>\n",
       "<ul>\n",
       "<li><strong>Wrangler</strong> <a href=\"mailto:eric@civicknowledge.com\">Eric Busboom</a>, <a href=\"http://civicknowledge.com\">Civic Knowledge</a></li>\n",
       "</ul>\n",
       "<h2>Resources</h2>\n",
       "<ul>\n",
       "<li><strong> <a href=\"notebooks/Extract.ipynb\">tract_income_dist</a></strong>. Estimated portions of households per tracts in income ranges</li>\n",
       "</ul>\n",
       "<h2>References</h2>\n",
       "<ul><li> <strong>pums</string>, <em>pums:{st}/h/2019/5</em>. PUMS template</li><li> <strong>puma_tract_map</string>, <em>data/puma_tract_map.csv</em>. Puma to tract map</li><li> <strong>us_tracts</string>, <em>metapack+http://library.metatab.org/civicknowledge.com-geohash-us.csv#us_tracts</em>. US Tracts, with tract numbers</li><li> <strong>households</string>, <em>census://2019/5/US/tract/B11001</em>. US Households by tract</li><li> <strong>median_income</string>, <em>census://2019/5/US/tract/B19013</em>. US Household median income by tract</li><ul>"
      ],
      "text/plain": [
       "# Tract Income Distributions\n",
       "`civicknowledge.com-income_dist-tract-1.1.1` Last Update: 2021-02-19T04:02:37\n",
       "\n",
       "_Estimated portions of households per tracts in income ranges_\n",
       "\n",
       "\n",
       "\n",
       "\n",
       " \n",
       "\n",
       "## Contacts\n",
       "\n",
       "* **Wrangler** [Eric Busboom](mailto:eric@civicknowledge.com), [Civic Knowledge](http://civicknowledge.com)\n",
       "\n",
       "## Resources\n",
       "\n",
       "* ** [tract_income_dist](notebooks/Extract.ipynb)**. Estimated portions of households per tracts in income ranges\n",
       "\n",
       "## References\n",
       "<ul><li> <strong>pums</string>, <em>pums:{st}/h/2019/5</em>. PUMS template</li><li> <strong>puma_tract_map</string>, <em>data/puma_tract_map.csv</em>. Puma to tract map</li><li> <strong>us_tracts</string>, <em>metapack+http://library.metatab.org/civicknowledge.com-geohash-us.csv#us_tracts</em>. US Tracts, with tract numbers</li><li> <strong>households</string>, <em>census://2019/5/US/tract/B11001</em>. US Households by tract</li><li> <strong>median_income</string>, <em>census://2019/5/US/tract/B19013</em>. US Household median income by tract</li><ul>\n"
      ]
     },
     "execution_count": 3,
     "metadata": {},
     "output_type": "execute_result"
    }
   ],
   "source": [
    "#pkg = mp.jupyter.open_package()\n",
    "pkg = mp.jupyter.open_source_package()\n",
    "pkg"
   ]
  },
  {
   "cell_type": "code",
   "execution_count": 4,
   "metadata": {},
   "outputs": [],
   "source": [
    "ptm = pkg.reference('puma_tract_map').dataframe()\n",
    "ptm = ptm.rename(columns={'tract':'geoid','puma':'PUMA'})"
   ]
  },
  {
   "cell_type": "code",
   "execution_count": 5,
   "metadata": {},
   "outputs": [
    {
     "data": {
      "application/vnd.jupyter.widget-view+json": {
       "model_id": "8bdb2f2cd4204edeb153e06978f4aa3f",
       "version_major": 2,
       "version_minor": 0
      },
      "text/plain": [
       "  0%|          | 0/52 [00:00<?, ?it/s]"
      ]
     },
     "metadata": {},
     "output_type": "display_data"
    }
   ],
   "source": [
    "frames = [rg.dataframe(pkg.reference('pums').url.format(st=st), low_memory=False) for st in tqdm(list(stusab.values()))]\n",
    "pums = pd.concat(frames)"
   ]
  },
  {
   "cell_type": "code",
   "execution_count": 7,
   "metadata": {},
   "outputs": [],
   "source": [
    "pumx = pums[['ST','PUMA','HINCP', 'WGTP']].copy()"
   ]
  },
  {
   "cell_type": "code",
   "execution_count": 8,
   "metadata": {},
   "outputs": [
    {
     "data": {
      "text/html": [
       "<div>\n",
       "<style scoped>\n",
       "    .dataframe tbody tr th:only-of-type {\n",
       "        vertical-align: middle;\n",
       "    }\n",
       "\n",
       "    .dataframe tbody tr th {\n",
       "        vertical-align: top;\n",
       "    }\n",
       "\n",
       "    .dataframe thead th {\n",
       "        text-align: right;\n",
       "    }\n",
       "</style>\n",
       "<table border=\"1\" class=\"dataframe\">\n",
       "  <thead>\n",
       "    <tr style=\"text-align: right;\">\n",
       "      <th></th>\n",
       "      <th>ST</th>\n",
       "      <th>PUMA</th>\n",
       "      <th>HINCP</th>\n",
       "      <th>WGTP</th>\n",
       "    </tr>\n",
       "  </thead>\n",
       "  <tbody>\n",
       "    <tr>\n",
       "      <th>0</th>\n",
       "      <td>1</td>\n",
       "      <td>1000</td>\n",
       "      <td>NaN</td>\n",
       "      <td>14</td>\n",
       "    </tr>\n",
       "    <tr>\n",
       "      <th>1</th>\n",
       "      <td>1</td>\n",
       "      <td>2701</td>\n",
       "      <td>52450.0</td>\n",
       "      <td>9</td>\n",
       "    </tr>\n",
       "    <tr>\n",
       "      <th>2</th>\n",
       "      <td>1</td>\n",
       "      <td>400</td>\n",
       "      <td>NaN</td>\n",
       "      <td>11</td>\n",
       "    </tr>\n",
       "    <tr>\n",
       "      <th>3</th>\n",
       "      <td>1</td>\n",
       "      <td>1000</td>\n",
       "      <td>8800.0</td>\n",
       "      <td>15</td>\n",
       "    </tr>\n",
       "    <tr>\n",
       "      <th>4</th>\n",
       "      <td>1</td>\n",
       "      <td>1000</td>\n",
       "      <td>13200.0</td>\n",
       "      <td>29</td>\n",
       "    </tr>\n",
       "  </tbody>\n",
       "</table>\n",
       "</div>"
      ],
      "text/plain": [
       "   ST  PUMA    HINCP  WGTP\n",
       "0   1  1000      NaN    14\n",
       "1   1  2701  52450.0     9\n",
       "2   1   400      NaN    11\n",
       "3   1  1000   8800.0    15\n",
       "4   1  1000  13200.0    29"
      ]
     },
     "execution_count": 8,
     "metadata": {},
     "output_type": "execute_result"
    }
   ],
   "source": [
    "pumx.memory_usage()"
   ]
  },
  {
   "cell_type": "code",
   "execution_count": null,
   "metadata": {},
   "outputs": [
    {
     "data": {
      "application/vnd.jupyter.widget-view+json": {
       "model_id": "aea750e6735b41c9afa4049e0e7eca2a",
       "version_major": 2,
       "version_minor": 0
      },
      "text/plain": [
       "  0%|          | 0/7691157 [00:00<?, ?it/s]"
      ]
     },
     "metadata": {},
     "output_type": "display_data"
    }
   ],
   "source": [
    "from geoid.acs import Puma\n",
    "pums['PUMA'] = pums.progress_apply(lambda r: str(Puma(r.ST, r.PUMA)), axis=1)"
   ]
  },
  {
   "cell_type": "code",
   "execution_count": null,
   "metadata": {},
   "outputs": [],
   "source": [
    "%time hh = pkg.reference('households').dataframe().rename(columns={'b11001_001':'households'})\n",
    "hh = hh[['households']].copy()"
   ]
  },
  {
   "cell_type": "code",
   "execution_count": null,
   "metadata": {},
   "outputs": [],
   "source": [
    "%time mi = pkg.reference('median_income').dataframe().rename(columns={'b19013_001':'median_income'})\n",
    "mi = mi[['median_income']].copy()\n",
    "mi"
   ]
  },
  {
   "cell_type": "code",
   "execution_count": null,
   "metadata": {},
   "outputs": [],
   "source": [
    "t = pums[['PUMA','HINCP', 'WGTP']].dropna()\n",
    "t = t.sample(int(10e6), replace=True, weights=t.WGTP)"
   ]
  },
  {
   "cell_type": "code",
   "execution_count": null,
   "metadata": {},
   "outputs": [],
   "source": [
    "step = 5_000\n",
    "\n",
    "# Clip so we don't deal with crazy extremes\n",
    "t['HINCP'] = t.HINCP.clip(-step, 500_000)\n",
    "\n",
    "# Quantize the median incomes of each puma. This becomes the index we will use\n",
    "# to match tracts to PUMA distributions\n",
    "t['medinc'] = t.groupby('PUMA').HINCP.transform(lambda g: (g.median()/step).round()*step).astype(int)\n",
    "t.head()"
   ]
  },
  {
   "cell_type": "code",
   "execution_count": null,
   "metadata": {},
   "outputs": [],
   "source": [
    "# Build the list of bin boundaries\n",
    "inc_bins = np.arange(-step, t.HINCP.max()+step, step)\n",
    "\n",
    "# Assign the household incomes to bins\n",
    "t['inc_bin'] = pd.cut(t.HINCP, inc_bins).apply(lambda e: e.left)\n",
    "t.head()"
   ]
  },
  {
   "cell_type": "code",
   "execution_count": null,
   "metadata": {},
   "outputs": [],
   "source": [
    "# Group by the median income index ( and across pums ) and count up the number of people\n",
    "\n",
    "medinc_bins = t.groupby(['PUMA','medinc']).inc_bin.value_counts().unstack().fillna(0)\n",
    "medinc_bins = medinc_bins.divide(t.groupby(['PUMA','medinc']).inc_bin.count(), axis=0)\n",
    "medinc_bins.columns = list(medinc_bins.columns)\n",
    "medinc_bins.sort_index(level=['medinc', ]).head(10)"
   ]
  },
  {
   "cell_type": "code",
   "execution_count": null,
   "metadata": {},
   "outputs": [],
   "source": [
    "l = [e[1] for e in medinc_bins.index]\n",
    "mi_max = max(l)\n",
    "mi_min = min(l)"
   ]
  },
  {
   "cell_type": "code",
   "execution_count": null,
   "metadata": {},
   "outputs": [],
   "source": [
    "mi['medinc'] = (mi.median_income/step).clip(mi_min, mi_max).round().fillna(0).astype(int)\n",
    "\n",
    "t = mi.join(ptm.set_index('geoid')).join(hh).reset_index()# .set_index('geoid')\n",
    "t#.merge(medinc_bins.reset_index(), on=['PUMA','medinc'])"
   ]
  },
  {
   "cell_type": "code",
   "execution_count": null,
   "metadata": {},
   "outputs": [],
   "source": [
    "medinc_bins.reset_index()"
   ]
  },
  {
   "cell_type": "code",
   "execution_count": null,
   "metadata": {},
   "outputs": [],
   "source": [
    "t.iloc[:,3:]= t.iloc[:,3:].multiply(t.households, axis=0)\n",
    "t.fillna(0).to_csv('income_counts.csv')\n",
    "t = t.set_index('PUMA', append=True)\n",
    "tracts = pkg.reference('us_tracts').dataframe()"
   ]
  },
  {
   "cell_type": "code",
   "execution_count": null,
   "metadata": {},
   "outputs": [],
   "source": [
    "tracts = tracts[['geoid','tract_id']]\n",
    "\n",
    "tracts = tracts.merge(ptm).set_index(['geoid','PUMA'])\n",
    "tracts.head()"
   ]
  },
  {
   "cell_type": "code",
   "execution_count": null,
   "metadata": {},
   "outputs": [],
   "source": []
  },
  {
   "cell_type": "code",
   "execution_count": null,
   "metadata": {},
   "outputs": [],
   "source": [
    "tract_income_dist = tracts.set_index('geoid').join(t)#.drop(columns=['medinc','households'])\n",
    "tract_income_dist.insert(0,'offset',0)"
   ]
  },
  {
   "cell_type": "code",
   "execution_count": null,
   "metadata": {},
   "outputs": [],
   "source": [
    "tract_income_dist"
   ]
  },
  {
   "cell_type": "code",
   "execution_count": null,
   "metadata": {},
   "outputs": [],
   "source": [
    "income_ranges = tract_income_dist[['tract_id']].copy()\n",
    "income_ranges['lt25k'] = tract_income_dist.loc[:,-5_000:20_000].sum(axis=1)\n",
    "income_ranges['25k_50k'] = tract_income_dist.loc[:,25_000:45_000].sum(axis=1)\n",
    "income_ranges['50k_75k'] = tract_income_dist.loc[:,50_000:70_000].sum(axis=1)\n",
    "income_ranges['75k_120k'] = tract_income_dist.loc[:,75_000:115_000].sum(axis=1)\n",
    "income_ranges['gt120k'] = tract_income_dist.loc[:,120_000:].sum(axis=1)\n",
    "income_ranges.describe()"
   ]
  },
  {
   "cell_type": "code",
   "execution_count": null,
   "metadata": {},
   "outputs": [],
   "source": [
    "income_ranges = tract_income_dist[['tract_id']].copy()\n",
    "income_ranges['lt25k'] = tract_income_dist.loc[:,-5_000:20_000].sum(axis=1)\n",
    "income_ranges['25k_60k'] = tract_income_dist.loc[:,25_000:55_000].sum(axis=1)\n",
    "income_ranges['60k_100k'] = tract_income_dist.loc[:,60_000:95_000].sum(axis=1)\n",
    "income_ranges['100k_200k'] = tract_income_dist.loc[:,100_000:195_000].sum(axis=1)\n",
    "income_ranges['gt200k'] = tract_income_dist.loc[:,200_000:].sum(axis=1)"
   ]
  },
  {
   "cell_type": "code",
   "execution_count": null,
   "metadata": {},
   "outputs": [],
   "source": [
    "income_ranges.describe()"
   ]
  },
  {
   "cell_type": "code",
   "execution_count": null,
   "metadata": {},
   "outputs": [],
   "source": []
  }
 ],
 "metadata": {
  "kernelspec": {
   "display_name": "Python 3",
   "language": "python",
   "name": "python3"
  },
  "language_info": {
   "codemirror_mode": {
    "name": "ipython",
    "version": 3
   },
   "file_extension": ".py",
   "mimetype": "text/x-python",
   "name": "python",
   "nbconvert_exporter": "python",
   "pygments_lexer": "ipython3",
   "version": "3.7.7"
  }
 },
 "nbformat": 4,
 "nbformat_minor": 4
}
